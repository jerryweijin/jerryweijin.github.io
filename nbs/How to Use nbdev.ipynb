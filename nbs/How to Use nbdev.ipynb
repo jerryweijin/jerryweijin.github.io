{
 "cells": [
  {
   "cell_type": "markdown",
   "metadata": {},
   "source": [
    "# How to Use nbdev\n",
    "\n",
    "> This tutorial shows you how to use nbdev"
   ]
  },
  {
   "cell_type": "markdown",
   "metadata": {},
   "source": [
    "## What is nbdev\n",
    "\n",
    "nbdev is a python tool developed by fastai to streamline your developemnt with Jupyter Notebook. Its main features are:\n",
    "\n",
    "1. You write your codes, documentation, and test cases all in notebooks. \n",
    "2. nbdev exports the code parts of notebooks into python scripts, build them into a package, and upload the package to PyPI or Anaconda. \n",
    "3. nbdev converts the documentation parts of notebooks into a website and host the website on Github Pages. \n",
    "4. nbdev does unit testing by running your test cases\n",
    "5. nbdev makes Jupyter Notebook Git friendly. It solves all the problems when using Jupyter Notebook with Git. \n",
    "6. nbdev allows you to set up Actions on Github to support continuous integration\n",
    "\n",
    "Now you know what nbdev is and the benefits of using nbdev, let's see how to use it."
   ]
  },
  {
   "cell_type": "markdown",
   "metadata": {},
   "source": [
    "## Install nbdev\n",
    "\n",
    "Before you can use nbdev, you need to install it. If you use conda, type"
   ]
  },
  {
   "cell_type": "markdown",
   "metadata": {},
   "source": [
    "```sh\n",
    "conda install -c fastai nbdev\n",
    "```"
   ]
  },
  {
   "cell_type": "markdown",
   "metadata": {},
   "source": [
    "If you use pip, type"
   ]
  },
  {
   "cell_type": "markdown",
   "metadata": {},
   "source": [
    "```sh\n",
    "pip install nbdev\n",
    "```"
   ]
  },
  {
   "cell_type": "markdown",
   "metadata": {},
   "source": [
    "## Create a Github Repo\n",
    "\n",
    ":::{callout-note}\n",
    "Using Github is not required to use nbdev. If you don't use Github, you can skip this step.\n",
    ":::"
   ]
  },
  {
   "cell_type": "markdown",
   "metadata": {},
   "source": [
    "Go to your Github account and create a new repo. I created a repo called nbdev_demo for this tutorial. You don't need to check the Add a README file checkbox as nbdev will create the README file for you."
   ]
  },
  {
   "cell_type": "markdown",
   "metadata": {},
   "source": [
    "![Create Github Repo](https://raw.githubusercontent.com/jerryweijin/jerryweijin.github.io/cfb1b4acd766bca242f807fd1a3f693f31810c8c/images/Create_Github_Repo.jpeg)"
   ]
  },
  {
   "cell_type": "markdown",
   "metadata": {},
   "source": [
    "Your repo is now empty\n",
    "\n",
    "![Empty_Repo](https://raw.githubusercontent.com/jerryweijin/jerryweijin.github.io/main/images/Empty_Repo.png)"
   ]
  },
  {
   "cell_type": "markdown",
   "metadata": {},
   "source": [
    "## Clone Your Repo\n",
    "\n",
    "Next you clone the repo to your computer. I used Github Desktop as I prefer a GUI interface. You can also use the command line to clone the repo.\n",
    "\n",
    "![Clone Repo](https://raw.githubusercontent.com/jerryweijin/jerryweijin.github.io/main/images/Clone_Repo.png)"
   ]
  },
  {
   "cell_type": "markdown",
   "metadata": {},
   "source": [
    "## Initialize the Project with nbdev\n",
    "\n",
    "Aftering cloning the repo, the next thing to do is to initialize the project with nbdev. Go to the repo \n",
    "\n",
    "```sh\n",
    "cd nbdev_demo\n",
    "```\n",
    "\n",
    "and run\n",
    "```sh\n",
    "nbdev_new\n",
    "```\n",
    "\n",
    "nbdev will add some files to your repo. \n",
    "\n",
    "![Files](https://raw.githubusercontent.com/jerryweijin/jerryweijin.github.io/main/images/Files.png)"
   ]
  },
  {
   "cell_type": "markdown",
   "metadata": {},
   "source": [
    "The nbs folder stores all your notebooks. nbdev creates a folder with the same name as your repo. In my case, the folder is called nbdev_demo. This folder stores all the python scripts that are exported from the notebooks. The \\_proc folder stores the documentation files for your site (e.g. html files) that are generated from your notebooks using Quarto. settings.ini and setup.py are used to generate your python package. You can also see that nvdev adds a README file and a LICENSE file for you. "
   ]
  },
  {
   "cell_type": "markdown",
   "metadata": {},
   "source": [
    "After running nbdev_new, I usually run nbdev_install_hooks right after because I know I will be using Git. \n",
    "\n",
    "```sh\n",
    "nbdev_install_hooks\n",
    "```\n",
    "\n",
    "You can think of hooks as an extension to nbdev. Jupyter notebooks are not Git friendly. Git is designed to use with plain text files. Jupyter Notebook uses JSON as its format. When using Jupyter Notebook with Git, there will be some problems. Citing from the nbdev official website, here is what hooks do for you: \n",
    "\n",
    "> - Fix broken notebooks due to git merge conflicts so that they can be opened and resolved directly in Jupyter.\n",
    "> - Each time you save a Jupyter notebook, automatically clean unwanted metadata to remove unnecessary changes in pull requests and reduce the chance of git merge conflicts.\n",
    "> - Automatically trust notebooks in the repo so that you can view widgets from collaborators’ commits. For this reason, you should not install hooks into a repo you don’t trust. "
   ]
  },
  {
   "cell_type": "markdown",
   "metadata": {},
   "source": [
    "## Make Your First Commit\n",
    "\n",
    "Now your repo is set up. We can make the first commit and push to Github.\n",
    "\n",
    "![First_Commit](https://raw.githubusercontent.com/jerryweijin/jerryweijin.github.io/main/images/First_Commit.png)\n",
    "\n",
    "Navigate to the Action tab and you should see two workflows have been executed. These workflows are added by nbdev to help continous integration. \n",
    "\n",
    "![Workflow_Run](https://raw.githubusercontent.com/jerryweijin/jerryweijin.github.io/main/images/Workflow_Run.png)\n",
    "\n",
    "nbdev hosts your documentation site on Github Pages. To enable Pages for your project, go to Settings and click Pages from the left menu. Select the branch gh-pages and save the change. \n",
    "\n",
    "![Enable_Github_Page](https://raw.githubusercontent.com/jerryweijin/jerryweijin.github.io/main/images/Enable_Github_Page.png)\n",
    "\n",
    "You should see another workflow has been executed.\n",
    "\n",
    "![Page_Build_Workflow](https://raw.githubusercontent.com/jerryweijin/jerryweijin.github.io/main/images/Page_Build_Workflow.png)\n",
    "\n",
    "You can check your documentation site on [your_username].github.io/[your_repo_name]\n",
    "\n",
    "![Doc_Site](https://raw.githubusercontent.com/jerryweijin/jerryweijin.github.io/main/images/Doc_Site.png)"
   ]
  },
  {
   "cell_type": "markdown",
   "metadata": {},
   "source": [
    "## Install Your Package\n",
    "\n",
    "If your project consists of multiple python scripts, you probably want to import them into your notebooks. To do that install your package using the editable mode. \n",
    "\n",
    "```sh\n",
    "pip install -e '.[dev]'\n",
    "```\n",
    "\n",
    "That way when you change your source files, you don't need to reinstall the package. Simply restart the notebook kernal to see the changes take effect. "
   ]
  },
  {
   "cell_type": "markdown",
   "metadata": {},
   "source": [
    "## Make Your First Edit\n",
    "\n",
    "Now it is time to do development on the notebooks. To demonstrate, I have updated the foo function in 00_core.ipynb to print out Hello World and called this function in index.ipynb. \n",
    "\n",
    "![First_edit](https://raw.githubusercontent.com/jerryweijin/jerryweijin.github.io/main/images/First_edit.png)\n",
    "\n",
    "Then commited and pushed to Github. You can see the site was updated.\n",
    "\n",
    "![Doc_Site_Updated](https://raw.githubusercontent.com/jerryweijin/jerryweijin.github.io/main/images/Doc_Site_Updated.png)"
   ]
  },
  {
   "cell_type": "markdown",
   "metadata": {},
   "source": [
    "Checking on the Action tab, there was a worflow failed to execute. What was wrong? \n",
    "\n",
    "![Second_Commit](https://raw.githubusercontent.com/jerryweijin/jerryweijin.github.io/main/images/Second_Commit.png)"
   ]
  },
  {
   "cell_type": "markdown",
   "metadata": {},
   "source": [
    "## Run nbdev_preare Before Every Commit\n",
    "\n",
    "To avoid the error, remember to run nbdev_preare before every commit. nbdev_prepare bundles 4 things for you. The error was caused by not clearning the notebooks.\n",
    "\n",
    "- __[nbdev_export](https://nbdev.fast.ai/api/doclinks.html#nbdev_export)__: Builds the .py modules from Jupyter notebooks\n",
    "- __[nbdev_test](https://nbdev.fast.ai/api/test.html#nbdev_test)__: Tests your notebooks\n",
    "- __[nbdev_clean](https://nbdev.fast.ai/api/clean.html#nbdev_clean)__: Cleans your notebooks to get rid of extreanous output for Github\n",
    "- __[nbdev_readme](https://nbdev.fast.ai/api/quarto.html#nbdev_readme)__: Updates README.md from your index notebook."
   ]
  },
  {
   "cell_type": "markdown",
   "metadata": {},
   "source": [
    "After running nbdev_prepare, all workflows were successfully executed. \n",
    "\n",
    "![Third_Commit](https://raw.githubusercontent.com/jerryweijin/jerryweijin.github.io/main/images/Third_Commit.png)"
   ]
  },
  {
   "cell_type": "markdown",
   "metadata": {},
   "source": [
    "## Learn More\n",
    "\n",
    "nvdev provides a lot more features than what I can cover in this tutorial. For more info, check out nbdev's __[documentation website](https://nbdev.fast.ai/getting_started.html)__. "
   ]
  },
  {
   "cell_type": "code",
   "execution_count": null,
   "metadata": {},
   "outputs": [],
   "source": []
  }
 ],
 "metadata": {
  "kernelspec": {
   "display_name": "Python 3 (ipykernel)",
   "language": "python",
   "name": "python3"
  }
 },
 "nbformat": 4,
 "nbformat_minor": 4
}
