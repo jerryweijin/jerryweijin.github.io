{
 "cells": [
  {
   "cell_type": "markdown",
   "metadata": {},
   "source": [
    "# How to Use nbdev\n",
    "\n",
    "> This tutorial shows you how to use nbdev"
   ]
  },
  {
   "cell_type": "markdown",
   "metadata": {},
   "source": [
    "## What is nbdev\n",
    "\n",
    "nbdev is a python tool developed by fastai to streamline your developemnt with Jupyter Notebook. Its main features are:\n",
    "\n",
    "1. You write your codes, documentation, and test cases all in notebooks. \n",
    "2. nbdev exports the code parts of notebooks into python scripts, build them into a package, and upload the package to PyPI or Anaconda. \n",
    "3. nbdev converts the documentation parts of notebooks into a website and host the website on Github Pages. \n",
    "4. nbdev does unit testing by running your test cases\n",
    "5. nbdev makes Jupyter Notebook Git friendly. It solves all the problems when using Jupyter Notebook with Git. \n",
    "6. nbdev allows you to set up Actions on Github to support continuous integration\n",
    "\n",
    "Now you know what nbdev is and the benefits of using nbdev, let's see how to use it."
   ]
  },
  {
   "cell_type": "markdown",
   "metadata": {},
   "source": [
    "## Install nbdev\n",
    "\n",
    "Before you can use nbdev, you need to install it. If you use conda, type"
   ]
  },
  {
   "cell_type": "markdown",
   "metadata": {},
   "source": [
    "```sh\n",
    "conda install -c fastai nbdev\n",
    "```"
   ]
  },
  {
   "cell_type": "markdown",
   "metadata": {},
   "source": [
    "If you use pip, type"
   ]
  },
  {
   "cell_type": "markdown",
   "metadata": {},
   "source": [
    "```\n",
    "pip install nbdev\n",
    "```"
   ]
  },
  {
   "cell_type": "code",
   "execution_count": null,
   "metadata": {},
   "outputs": [],
   "source": []
  }
 ],
 "metadata": {
  "kernelspec": {
   "display_name": "Python 3 (ipykernel)",
   "language": "python",
   "name": "python3"
  }
 },
 "nbformat": 4,
 "nbformat_minor": 4
}
