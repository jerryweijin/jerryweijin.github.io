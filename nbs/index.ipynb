{
 "cells": [
  {
   "cell_type": "markdown",
   "metadata": {},
   "source": [
    "# Learning Journal\n",
    "\n",
    "> There is a saying that you are best positioned to help the person one step behind you. I created this blog to document my learning and share my learning with other people. Learning is a life journey, so let's learn together."
   ]
  },
  {
   "cell_type": "markdown",
   "metadata": {},
   "source": [
    "## [How to use nbdev](/How_to_Use_nbdev.ipynb)"
   ]
  },
  {
   "cell_type": "markdown",
   "metadata": {},
   "source": [
    "If you write codes using Jupyter Notebook, you probably want to check out nbdev. nbdev is a tool developed by fastai to streamline your development in notebooks. You do all your developmemnt, documentation, and unit testing in notebooks. nbdev help you convert your notebooks into python scripts, build them into a package, and upload the package to PyPI or Anaconda. nbdev can also turn your notebooks into a documentation website and host them on Github Pages. When using Git, Git may damage your notebooks and make them unopenable. nbdev solves these problems for you, so that you can freely use Git and Github. "
   ]
  },
  {
   "cell_type": "markdown",
   "metadata": {},
   "source": [
    "[How to use nbdev](How_to_Use_nbdev.ipynb)"
   ]
  },
  {
   "cell_type": "markdown",
   "metadata": {},
   "source": [
    "Hello"
   ]
  }
 ],
 "metadata": {
  "kernelspec": {
   "display_name": "Python 3 (ipykernel)",
   "language": "python",
   "name": "python3"
  }
 },
 "nbformat": 4,
 "nbformat_minor": 4
}
